{
 "cells": [
  {
   "cell_type": "markdown",
   "metadata": {},
   "source": [
    "## HDB Resale Flat Price"
   ]
  },
  {
   "cell_type": "markdown",
   "metadata": {},
   "source": [
    "### Aim: What is the relationship between the HDB Resale Flat Price and Remaining Lease Period (in years) over the last 3 years? "
   ]
  },
  {
   "cell_type": "markdown",
   "metadata": {},
   "source": [
    "### Dataset "
   ]
  },
  {
   "cell_type": "markdown",
   "metadata": {},
   "source": [
    "#### This dataset shows the resale price transactions based on the registration of the resale transactions, which comprises of month, town, flat type, block, street name, storey range, floor area, flat model, lease commencement date, lease remaining period, and the resale price variables."
   ]
  },
  {
   "cell_type": "markdown",
   "metadata": {},
   "source": [
    "#### Data Type: Scatter Plot"
   ]
  },
  {
   "cell_type": "markdown",
   "metadata": {},
   "source": [
    "#### Source: https://data.gov.sg/dataset/resale-flat-prices"
   ]
  },
  {
   "cell_type": "markdown",
   "metadata": {},
   "source": [
    "### Methodology "
   ]
  },
  {
   "cell_type": "markdown",
   "metadata": {},
   "source": [
    "#### Step 1: Import the required libraries "
   ]
  },
  {
   "cell_type": "code",
   "execution_count": null,
   "metadata": {},
   "outputs": [],
   "source": [
    "import numpy as np\n",
    "import matplotlib.pyplot as plt"
   ]
  },
  {
   "cell_type": "markdown",
   "metadata": {},
   "source": [
    "#### Step 2: Import the required dataset"
   ]
  },
  {
   "cell_type": "code",
   "execution_count": null,
   "metadata": {},
   "outputs": [],
   "source": [
    "filename = 'C:\\\\Users\\Jeffrey Wong\\SP_Assignment_Python\\HDB_resale_flat_prices.csv'\n",
    "\n",
    "data = np.genfromtxt(filename, skip_header = 1, dtype = [('month', 'U10'), ('town', 'U50'),\n",
    "                                                        ('flat_type', 'U10'), ('block', 'U10'),\n",
    "                                                        ('street_name', 'U50'), ('storey_range', 'U50'),\n",
    "                                                        ('floor_area_sqm', 'i8'), ('flat_model', 'U50'),\n",
    "                                                        ('lease_commence_date', 'U10'), ('remaining_lease', 'i8'),\n",
    "                                                        ('resale_price', 'f8')], \n",
    "                     delimiter = ',', missing_values = ['na', '-', ''], filling_values = 0)\n",
    "\n"
   ]
  },
  {
   "cell_type": "markdown",
   "metadata": {},
   "source": [
    "#### Step 3: Data Cleaning, Manipulation & Extraction "
   ]
  },
  {
   "cell_type": "markdown",
   "metadata": {},
   "source": [
    "##### Use subsetting with boolean indexing to determine the exact location of the data of an element on each quarterly and store the indexing values into assigned variables respectively"
   ]
  },
  {
   "cell_type": "code",
   "execution_count": null,
   "metadata": {},
   "outputs": [],
   "source": [
    "### for year 2016\n",
    "index_2016 = np.where(data['month'] == '2016-01')\n",
    "if len(index_2016) > 0 and len(index_2016[0]) > 0:\n",
    "    position_2016 = index_2016[0][0]\n",
    "print(\"The indexing value for year 2016 is \" + str(position_2016))\n",
    "print()\n",
    "\n",
    "### for year 2017\n",
    "index_2017 = np.where(data['month'] == '2017-01')\n",
    "if len(index_2017) > 0 and len(index_2017[0]) > 0: \n",
    "    position_2017 = index_2017[0][0]\n",
    "print(\"The indexing value for year 2017 is \" + str(position_2017))\n",
    "print()\n",
    "\n",
    "### for year 2018\n",
    "index_2018 = np.where(data['month'] == '2018-01')\n",
    "if len(index_2018) > 0 and len(index_2018[0]) > 0: \n",
    "    position_2018 = index_2018[0][0]\n",
    "print(\"The indexing value for year 2018 is \" + str(position_2018))\n",
    "print()\n",
    "\n",
    "### for year 2019\n",
    "index_2019 = np.where(data['month'] == '2019-01')\n",
    "if len(index_2019) > 0 and len(index_2019[0]) > 0: \n",
    "    position_2019 = index_2019[0][0] \n",
    "print(\"The indexing value for year 2019 is \" + str(position_2019))\n",
    "print()\n"
   ]
  },
  {
   "cell_type": "markdown",
   "metadata": {},
   "source": [
    "##### Extract the relevant data based on the indexing values above (through slicing) for each year and store them into assigned variables respectively"
   ]
  },
  {
   "cell_type": "code",
   "execution_count": null,
   "metadata": {},
   "outputs": [],
   "source": [
    "year_2016 = data[position_2016:position_2017]\n",
    "year_2017 = data[position_2017:position_2018]\n",
    "year_2018 = data[position_2018:position_2019]\n",
    "\n",
    "print(year_2016)\n",
    "print()\n",
    "print(year_2017)\n",
    "print()\n",
    "print(year_2018)\n",
    "print()\n"
   ]
  },
  {
   "cell_type": "markdown",
   "metadata": {},
   "source": [
    "##### Extract the unique remaining lease from the dataset"
   ]
  },
  {
   "cell_type": "code",
   "execution_count": null,
   "metadata": {},
   "outputs": [],
   "source": [
    "unique_remaining_lease = np.unique(data['remaining_lease'])\n",
    "print(unique_remaining_lease)"
   ]
  },
  {
   "cell_type": "markdown",
   "metadata": {},
   "source": [
    "##### Use subsetting to extract the resale price based on the remaining lease period, and compute the whole set of data corresponding to the respective remaining lease period to derive the average resale price and store the total average resale price corresponding to the remaining lease period through Python Dictionary"
   ]
  },
  {
   "cell_type": "code",
   "execution_count": null,
   "metadata": {},
   "outputs": [],
   "source": [
    "# for year 2016\n",
    "resale_price_2016 = {}\n",
    "for k in unique_remaining_lease:\n",
    "    values = year_2016[year_2016['remaining_lease'] == k]['resale_price'] # use subsetting\n",
    "    avg_resale_price = np.mean(values) #compute the average values for each remaining lease period \n",
    "    resale_price_2016[k] = np.nan_to_num(avg_resale_price)\n",
    "\n",
    "print(\"The average resale price for year 2016: \" )\n",
    "print(resale_price_2016)\n",
    "print()\n",
    "\n",
    "# for year 2017 \n",
    "resale_price_2017 = {}\n",
    "for i in unique_remaining_lease:\n",
    "    values = year_2017[year_2017['remaining_lease'] == i]['resale_price'] #use subsetting\n",
    "    avg_resale_price = np.mean(values) #compute the average values for each remaining lease period\n",
    "    resale_price_2017[i] = np.nan_to_num(avg_resale_price)\n",
    "\n",
    "print(\"The average resale price for year 2017: \" )\n",
    "print(resale_price_2017)\n",
    "print()\n",
    "\n",
    "# for year 2018\n",
    "resale_price_2018 = {}\n",
    "for j in unique_remaining_lease:\n",
    "    values = year_2018[year_2018['remaining_lease'] == j]['resale_price'] # use subsetting \n",
    "    avg_resale_price = np.mean(values) #compute the average values for each remaining lease period \n",
    "    resale_price_2018[j] = np.nan_to_num(avg_resale_price)\n",
    "\n",
    "print(\"The average resale price for year 2018: \" )\n",
    "print(resale_price_2018)\n",
    "print()\n"
   ]
  },
  {
   "cell_type": "markdown",
   "metadata": {},
   "source": [
    "#### Step 4: Data Visualization on Matplotlib "
   ]
  },
  {
   "cell_type": "markdown",
   "metadata": {},
   "source": [
    "##### Define the function to create the multiple scatter plot"
   ]
  },
  {
   "cell_type": "code",
   "execution_count": null,
   "metadata": {},
   "outputs": [],
   "source": [
    "def scatterplot(resale_price_2016, resale_price_2017, resale_price_2018):\n",
    "    \n",
    "    ### create the multiple scatterplot for year 2016, 2017 and 2018\n",
    "    fig, ax = plt.subplots(figsize = (15,10))\n",
    "    ax.scatter(list(resale_price_2016.keys()), list(resale_price_2016.values()), s = 50, facecolor = 'white', \n",
    "                edgecolor = 'green', linewidth = 2.0, alpha = 1.0, label = 'Year 2016')\n",
    "    ax.scatter(list(resale_price_2017.keys()), list(resale_price_2017.values()), s = 150, facecolor = 'white', \n",
    "                edgecolor = 'tomato', linewidth = 2.0, alpha = 1.0, label = 'Year 2017')\n",
    "    ax.scatter(list(resale_price_2018.keys()), list(resale_price_2018.values()), s = 300, facecolor = 'white',\n",
    "               edgecolor = 'darkblue', linewidth = 2.0, alpha = 1.0, label = 'Year 2018')\n",
    "\n",
    "    \n",
    "    ### adds a title and axes labels\n",
    "    ax.set_title(\"Resale Price vs Years of Lease by Town, 2016, 2017 & 2018\", fontsize = 15,fontweight = 'bold')\n",
    "    ax.set_xlabel('Years of Lease Left', fontsize = 12, fontweight = 'bold')\n",
    "    ax.set_ylabel('Average Resale Price (S$)', fontsize = 12, fontweight = 'bold')\n",
    "\n",
    "    ### adjust both axes tick values \n",
    "    ax.tick_params(axis = \"both\", labelsize = 12, length = 10, width = 2.0, labelcolor = 'black', colors = 'red')\n",
    "    \n",
    "    ### adjust limits for both axes \n",
    "    ax.set_xlim(40,100)\n",
    "    ax.set_ylim(200000,750000)\n",
    "    \n",
    "    ### removing top and right borders\n",
    "    ax.spines['top'].set_visible(False)\n",
    "    ax.spines['right'].set_visible(False)\n",
    "\n",
    "    ### add minorticks and gridlines \n",
    "    ax.minorticks_on()\n",
    "    ax.grid(axis = 'both', color = 'blue', which = 'major', linestyle = '--', linewidth = 0.8, alpha = 0.5)\n",
    "    \n",
    "    ### to create linear regression lines\n",
    "    # call the function to get the values for new y-axis\n",
    "    y_values_2016, y_values_2017, y_values_2018 = best_fit_lines(resale_price_2016, resale_price_2017, resale_price_2018)\n",
    "    ax.plot(list(resale_price_2016.keys()), y_values_2016, color = 'green', linewidth = 2, linestyle = '-.', label = 'Best Fit Line: 2016')\n",
    "    ax.plot(list(resale_price_2017.keys()), y_values_2017, color = 'tomato', linewidth = 2, linestyle = ':', label = 'Best Fit Line: 2017')\n",
    "    ax.plot(list(resale_price_2018.keys()), y_values_2018, color = 'darkblue', linewidth = 2, linestyle = '--', label = 'Best Fit Line: 2018')\n",
    "    \n",
    "    ### add legend\n",
    "    ax.legend(loc = 'best', facecolor = 'white', edgecolor = 'purple', shadow = True, fontsize = 10) \n",
    "    \n",
    "    fig.savefig('scatterplot.png')\n",
    "    \n",
    "    plt.show()"
   ]
  },
  {
   "cell_type": "markdown",
   "metadata": {},
   "source": [
    "##### Define the function to compute and return the new values of the y-axis for the plotting the linear regression line"
   ]
  },
  {
   "cell_type": "code",
   "execution_count": null,
   "metadata": {},
   "outputs": [],
   "source": [
    "def best_fit_lines(resale_price_2016, resale_price_2017, resale_price_2018):\n",
    "    # to convert all the keys and values previously store in Python dict to 2-dimensional arrays for respective years\n",
    "    x_2016 = np.array(list(resale_price_2016.keys()), np.int64)\n",
    "    y_2016 = np.array(list(resale_price_2016.values()), np.float64)\n",
    "    x_2017 = np.array(list(resale_price_2017.keys()), np.int64)\n",
    "    y_2017 = np.array(list(resale_price_2017.values()), np.float64)\n",
    "    x_2018 = np.array(list(resale_price_2018.keys()), np.int64)\n",
    "    y_2018 = np.array(list(resale_price_2018.values()), np.float64)\n",
    "    \n",
    "    # get the values for slopes and y-intercepts on each year\n",
    "    a_2016, b_2016 = np.polyfit(x_2016, y_2016, 1) \n",
    "    a_2017, b_2017 = np.polyfit(x_2017, y_2017, 1)\n",
    "    a_2018, b_2018 = np.polyfit(x_2018, y_2018, 1)\n",
    "    \n",
    "    # compute the new y-values for linear regression on each year\n",
    "    y_regression_2016 = a_2016 * x_2016 + b_2016\n",
    "    y_regression_2017 = a_2017 * x_2017 + b_2017\n",
    "    y_regression_2018 = a_2018 * x_2018 + b_2018\n",
    "    \n",
    "    return y_regression_2016, y_regression_2017, y_regression_2018"
   ]
  },
  {
   "cell_type": "markdown",
   "metadata": {},
   "source": [
    "##### Call the function to create the multiple scatter plot"
   ]
  },
  {
   "cell_type": "code",
   "execution_count": null,
   "metadata": {},
   "outputs": [],
   "source": [
    "scatterplot(resale_price_2016, resale_price_2017, resale_price_2018)"
   ]
  },
  {
   "cell_type": "markdown",
   "metadata": {},
   "source": [
    "#### Interpretation: The relationship between HDB Resale Flat Price and Years of Lease Left are positively and linearly strong. The longer the years of lease left, the higher the average resale price."
   ]
  },
  {
   "cell_type": "markdown",
   "metadata": {},
   "source": [
    "#### Simple Text-Based Analysis Using Numpy"
   ]
  },
  {
   "cell_type": "code",
   "execution_count": null,
   "metadata": {},
   "outputs": [],
   "source": [
    "### display the total number of rows of data from the csv file\n",
    "no_of_rows = len(data)\n",
    "print(\"There is a total of \" + str(no_of_rows) + \" rows corresponding to this dataset \" + filename)\n",
    "print()\n",
    "\n",
    "### display the total number of rows of data for year 2016, 2017 & 2018 respectively\n",
    "print(\"Year                                 |     2016     |     2017     |     2018     |\")\n",
    "print(\"-------------------------------------------------------------------------------------------------------\")\n",
    "print(\"Total Number of Rows Extracted:           \" + str(len(year_2016)) + \"          \" + str(len(year_2017)) + \"          \"\n",
    "     + str(len(year_2018)))\n",
    "print()"
   ]
  },
  {
   "cell_type": "code",
   "execution_count": null,
   "metadata": {},
   "outputs": [],
   "source": [
    "### display the total number of unique remaining lease period \n",
    "print(\"There is a total of \" + str(len(unique_remaining_lease)) + \" unique remaining lease period in this dataset.\")\n",
    "print()"
   ]
  },
  {
   "cell_type": "code",
   "execution_count": null,
   "metadata": {},
   "outputs": [],
   "source": [
    "# for year 2016\n",
    "resale_price_2016 = np.array([])\n",
    "for k in unique_remaining_lease:\n",
    "    values = year_2016[year_2016['remaining_lease'] == k]['resale_price'] #subsetting\n",
    "    avg_resale_price = np.mean(values) #compute the average values for each remaining lease period \n",
    "    resale_price_2016 = np.nan_to_num(np.append(resale_price_2016, avg_resale_price))\n",
    "\n",
    "# for year 2017 \n",
    "resale_price_2017 = np.array([])\n",
    "for i in unique_remaining_lease:\n",
    "    values = year_2017[year_2017['remaining_lease'] == i]['resale_price'] #subsetting\n",
    "    avg_resale_price = np.mean(values) #compute the average values for each remaining lease period\n",
    "    resale_price_2017 = np.nan_to_num(np.append(resale_price_2017, avg_resale_price))\n",
    "\n",
    "# for year 2018\n",
    "resale_price_2018 = np.array([])\n",
    "for j in unique_remaining_lease:\n",
    "    values = year_2018[year_2018['remaining_lease'] == j]['resale_price'] #subsetting \n",
    "    avg_resale_price = np.mean(values) #compute the average values for each remaining lease period \n",
    "    resale_price_2018 = np.nan_to_num(np.append(resale_price_2018, avg_resale_price))\n",
    "\n",
    "\n",
    "### display the average resale prices over the last 3 years based on the remaining lease period\n",
    "print(\"Total Average Flat Resale Price For All \" + str(len(unique_remaining_lease)) + \" unique remaining lease period over the last three years: \")\n",
    "print(\"--------------------------------------------------------------------------------------------------------\")\n",
    "print(\"Years of Lease Left                  |     2016(S$)   |     2017(S$)   |     2018(S$)    |\")\n",
    "for i in range(len(unique_remaining_lease)):\n",
    "    print(str(unique_remaining_lease[i]) + \"\\t\\t\\t\\t\\t{:.2f}\\t{:.2f}\\t {:.2f}\".format(resale_price_2016[i], \n",
    "                                                                               resale_price_2017[i],\n",
    "                                                                                    resale_price_2018[i]))"
   ]
  },
  {
   "cell_type": "code",
   "execution_count": null,
   "metadata": {},
   "outputs": [],
   "source": [
    "combined_resale_price = np.array([resale_price_2016, resale_price_2017, resale_price_2018])\n",
    "years = np.array(['2016', '2017', '2018'])\n",
    "\n",
    "### display the max resale prices over the last 3 years based on the remaining lease period\n",
    "print(\"Maximum HDB Resale Flat Prices Over The Last 3 Years: \")\n",
    "print(\"-------------------------------------------------------------------------------------------------------\")\n",
    "for i in range (len(years)):\n",
    "    max_values = combined_resale_price[i].max(axis = 0)\n",
    "    max_values_index = combined_resale_price[i].argmax()\n",
    "    print(\"The maximum average resale price for year \" + years[i] + \" is S${:.2f}\".format(max_values) + \" with the remaining lease period of \" \n",
    "          + str(unique_remaining_lease[max_values_index]) + \" years\")    \n",
    "print()\n",
    "\n",
    "### display the min resale prices over the last 3 years based on the remaining lease period\n",
    "print(\"Maximum HDB Resale Flat Prices Over The Last 3 Years: \")\n",
    "print(\"-------------------------------------------------------------------------------------------------------\")\n",
    "for i in range (len(years)):\n",
    "    min_values = combined_resale_price[i].min(axis = 0)\n",
    "    min_values_index = combined_resale_price[i].argmin()\n",
    "    print(\"The minimum average resale price for year \" + years[i] + \" is S${:.2f}\".format(min_values) + \" with the remaining lease period of \" \n",
    "          + str(unique_remaining_lease[min_values_index]) + \" years\")    \n",
    "print()\n",
    "\n",
    "print(\"Basic Descriptive Statistics: \")\n",
    "print(\"------------------------------------------------------------------------------------------------------\")\n",
    "for i in range(len(years)):\n",
    "    standard_deviation = np.std(combined_resale_price[i], axis = 0) # compute standard deviation along the row axis \n",
    "    variation = np.var(combined_resale_price[i],axis = 0) # compute the variation along the row axis \n",
    "    median = np.median(combined_resale_price[i], axis = 0) # comptue the median along the row axis\n",
    "    percentile_25 = np.percentile(combined_resale_price[i], 25, axis = 0) # compute the 25th percentile of the data along the row axis\n",
    "    percentile_75 = np.percentile(combined_resale_price[i], 75, axis = 0) # compute the 75th percentile of the data along the row axis \n",
    "    r = np.corrcoef(unique_remaining_lease, combined_resale_price[i]) # compute the correlation coefficient \n",
    "    linear_regression_equation = np.poly1d(np.polyfit(unique_remaining_lease, combined_resale_price[i], 1)) #compute the linear regression\n",
    "    \n",
    "    ### display the values\n",
    "    print(\"For year \" + str(years[i]) + \": \")\n",
    "    print(\"--------------------\")\n",
    "    print(\"Standard Deviation \\t: S${:.2f}\".format(standard_deviation))\n",
    "    print(\"Variation          \\t: S${:.2f}\".format(variation))\n",
    "    print(\"Median             \\t: S${:.2f}\".format(median))\n",
    "    print(\"25th Percentile    \\t: S${:.2f}\".format(percentile_25))\n",
    "    print(\"75th Percentile    \\t: S${:.2f}\".format(percentile_75))\n",
    "    print(\"Correlation Coeff. \\t: {:.4f}\".format(r[0][1]))\n",
    "    print(\"Linear Regression Equation: \" + str(linear_regression_equation))\n",
    "    print()\n",
    "print() "
   ]
  }
 ],
 "metadata": {
  "kernelspec": {
   "display_name": "Python 3",
   "language": "python",
   "name": "python3"
  },
  "language_info": {
   "codemirror_mode": {
    "name": "ipython",
    "version": 3
   },
   "file_extension": ".py",
   "mimetype": "text/x-python",
   "name": "python",
   "nbconvert_exporter": "python",
   "pygments_lexer": "ipython3",
   "version": "3.7.3"
  }
 },
 "nbformat": 4,
 "nbformat_minor": 2
}
