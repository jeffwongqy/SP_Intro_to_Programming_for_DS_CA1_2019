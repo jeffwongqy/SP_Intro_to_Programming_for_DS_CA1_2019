{
 "cells": [
  {
   "cell_type": "markdown",
   "metadata": {},
   "source": [
    "## HDB Resale Flat Price Distribution "
   ]
  },
  {
   "cell_type": "markdown",
   "metadata": {},
   "source": [
    "### Aim: What is the distribution for the HDB Resale Flat Price over the last 3 years?"
   ]
  },
  {
   "cell_type": "markdown",
   "metadata": {},
   "source": [
    "### Dataset"
   ]
  },
  {
   "cell_type": "markdown",
   "metadata": {},
   "source": [
    "#### This dataset shows the resale price transactions based on the registration of the resale transactions, which comprises of month, town, flat type, block, street name, storey range, floor area, flat model, lease commencement date, lease remaining period, and the resale price variables."
   ]
  },
  {
   "cell_type": "markdown",
   "metadata": {},
   "source": [
    "#### Chart Type: Histogram"
   ]
  },
  {
   "cell_type": "markdown",
   "metadata": {},
   "source": [
    "#### Source: https://data.gov.sg/dataset/resale-flat-prices"
   ]
  },
  {
   "cell_type": "markdown",
   "metadata": {},
   "source": [
    "### Methodology"
   ]
  },
  {
   "cell_type": "markdown",
   "metadata": {},
   "source": [
    "#### Step 1: Import the required libraries"
   ]
  },
  {
   "cell_type": "code",
   "execution_count": null,
   "metadata": {},
   "outputs": [],
   "source": [
    "import numpy as np\n",
    "import matplotlib.pyplot as plt"
   ]
  },
  {
   "cell_type": "markdown",
   "metadata": {},
   "source": [
    "#### Step 2: Import the required dataset"
   ]
  },
  {
   "cell_type": "code",
   "execution_count": null,
   "metadata": {},
   "outputs": [],
   "source": [
    "filename = 'C:\\\\Users\\Jeffrey Wong\\SP_Assignment_Python\\HDB_resale_flat_prices.csv'\n",
    "\n",
    "data = np.genfromtxt(filename, skip_header = 1, dtype = [('month', 'U10'), ('town', 'U50'),\n",
    "                                                        ('flat_type', 'U10'), ('block', 'U10'),\n",
    "                                                        ('street_name', 'U50'), ('storey_range', 'U50'),\n",
    "                                                        ('floor_area_sqm', 'i8'), ('flat_model', 'U50'),\n",
    "                                                        ('lease_commence_date', 'U10'), ('remaining_lease', 'i8'),\n",
    "                                                        ('resale_price', 'f8')], \n",
    "                     delimiter = ',', missing_values = ['na', '-', ''])"
   ]
  },
  {
   "cell_type": "markdown",
   "metadata": {},
   "source": [
    "#### Step 3: Data Cleaning, Manipulation & Extraction"
   ]
  },
  {
   "cell_type": "markdown",
   "metadata": {},
   "source": [
    "##### Use subsetting  with boolean indexing to determine the exact location of the data of an element on first month of each year and store the indexing values into the assigned variables respectively"
   ]
  },
  {
   "cell_type": "code",
   "execution_count": null,
   "metadata": {},
   "outputs": [],
   "source": [
    "### get the index of an element for the first month of year 2016\n",
    "index_2016 = np.where(data['month'] == '2016-01')\n",
    "if len(index_2016) > 0 and len(index_2016[0]) > 0:\n",
    "    position_2016 = index_2016[0][0]\n",
    "print(\"The index of an element for the first month of year 2016 is \" + str(position_2016))\n",
    "\n",
    "### get the index of an element for the first month of year 2017\n",
    "index_2017 = np.where(data['month'] == '2017-01')\n",
    "if len(index_2017) > 0 and len(index_2017[0]) > 0:\n",
    "    position_2017 = index_2017[0][0]\n",
    "print(\"The index of an element for the first month of year 2017 is \" + str(position_2017))\n",
    "\n",
    "### get the index of an element for the first month of year 2018\n",
    "index_2018 = np.where(data['month'] == '2018-01')\n",
    "if len(index_2018) > 0 and len(index_2018[0]) > 0:\n",
    "    position_2018 = index_2018[0][0]\n",
    "print(\"The index of an element for the first month of year 2018 is \" + str(position_2018))\n",
    "\n",
    "### get the index of an element for the first month of year 2019\n",
    "index_2019 = np.where(data['month'] == '2019-01')\n",
    "if len(index_2019) > 0 and len(index_2019[0]) > 0:\n",
    "    position_2019 = index_2019[0][0]\n",
    "print(\"The index of an element for the first month of year 2019 is \" + str(position_2019))"
   ]
  },
  {
   "cell_type": "markdown",
   "metadata": {},
   "source": [
    "##### Extract the relevant data using the indexing values above (through slicing) for each year and store them into assigned variables respectively"
   ]
  },
  {
   "cell_type": "code",
   "execution_count": null,
   "metadata": {},
   "outputs": [],
   "source": [
    "year_2016 = data[position_2016:position_2017]\n",
    "year_2017 = data[position_2017:position_2018] \n",
    "year_2018 = data[position_2018:position_2019]\n",
    "\n",
    "print(year_2016)\n",
    "print()\n",
    "print(year_2017)\n",
    "print()\n",
    "print(year_2018)\n",
    "print()"
   ]
  },
  {
   "cell_type": "markdown",
   "metadata": {},
   "source": [
    "##### Extract the resale price values from the new dataset for each year"
   ]
  },
  {
   "cell_type": "code",
   "execution_count": null,
   "metadata": {},
   "outputs": [],
   "source": [
    "resale_price_2016 = year_2016['resale_price']\n",
    "print(\"The resale price for year 2016 are: \")\n",
    "print(resale_price_2016)\n",
    "print()\n",
    "\n",
    "resale_price_2017 = year_2017['resale_price']\n",
    "print(\"The resale price for year 2017 are: \")\n",
    "print(resale_price_2017)\n",
    "print()\n",
    "\n",
    "resale_price_2018 = year_2018['resale_price']\n",
    "print(\"The resale price for year 2018 are: \")\n",
    "print(resale_price_2018)"
   ]
  },
  {
   "cell_type": "markdown",
   "metadata": {},
   "source": [
    "#### use logical-non operator, ~ to get an array with True everywhere that an array of elements are valid number\n",
    "##### use logical array to index to the original array to retrieve just the non-NaN values for year 2016, 2017  and 2018"
   ]
  },
  {
   "cell_type": "code",
   "execution_count": null,
   "metadata": {},
   "outputs": [],
   "source": [
    "new_resale_price_2016 = resale_price_2016[~np.isnan(resale_price_2016)]\n",
    "new_resale_price_2017 = resale_price_2017[~np.isnan(resale_price_2017)]\n",
    "new_resale_price_2018 = resale_price_2018[~np.isnan(resale_price_2018)]\n",
    "combined_data = [new_resale_price_2016, new_resale_price_2017, new_resale_price_2018]"
   ]
  },
  {
   "cell_type": "markdown",
   "metadata": {},
   "source": [
    "#### Step 4: Data Visualization using Matplotlib"
   ]
  },
  {
   "cell_type": "code",
   "execution_count": null,
   "metadata": {},
   "outputs": [],
   "source": [
    "\n",
    "fig, ax = plt.subplots(nrows = 1, ncols = 3,figsize = (15,8))\n",
    "    \n",
    "facecolors = ['tomato', 'plum', 'chocolate']\n",
    "labels  = ['Resale Price 2016', 'Resale Price 2017', 'Resale Price 2018']\n",
    "title = ['Year 2016', 'Year 2017', 'Year 2018']\n",
    "no_of_counts = []\n",
    "\n",
    "for i in range(3):\n",
    "    counts, bins, patches = ax[i].hist(combined_data[i], bins = 25, facecolor = facecolors[i], edgecolor = 'k', \n",
    "                                           histtype = 'bar', align = 'mid', density = False, label = labels[i])\n",
    "    no_of_counts.append(counts)\n",
    "    \n",
    "    ax[i].set_title(title[i], fontsize = 15, fontweight = 'bold', color = 'k')\n",
    "    \n",
    "        \n",
    "    ### add title and axes labels\n",
    "    ax[i].set_xlabel('Resale Price (S$)', fontsize = 12, fontweight = 'bold')\n",
    "    ax[i].set_ylabel('Number of Records', fontsize = 12, fontweight = 'bold')\n",
    "        \n",
    "    ### adjust both axes ticks values\n",
    "    ax[i].tick_params(axis = \"y\", labelsize = 10, length = 10, width = 2.0, labelcolor = 'black', colors = 'red')\n",
    "    ax[i].tick_params(axis = \"x\", labelsize = 10, length = 10, width = 2.0, labelcolor = 'black', colors = 'red', rotation = 45)\n",
    "        \n",
    "    ### removing top and right borders\n",
    "    ax[i].spines['top'].set_visible(False)\n",
    "    ax[i].spines['right'].set_visible(False)\n",
    "        \n",
    "    ### add minorticks \n",
    "    ax[i].minorticks_on()\n",
    "        \n",
    "    ### set y-axis limits\n",
    "    ax[i].set_ylim(0,3000)\n",
    "        \n",
    "    ### set x-axis limits\n",
    "    ax[i].set_xlim(20000, 1200000)\n",
    "        \n",
    "    ### add legend\n",
    "    ax[i].legend(loc = 'lower center', fontsize = 12, edgecolor = 'navy', bbox_to_anchor = (0.5, -0.25),\n",
    "                     ncol = 3, shadow = True)\n",
    "        \n",
    "\n",
    "### add suptitle \n",
    "fig.suptitle(\"HDB Resale Price Distribution, Year 2016, 2017 and 2018\", fontsize = 15, fontweight = 'bold')\n",
    "    \n",
    "### save the image\n",
    "fig.savefig('histogram.png')\n",
    "\n",
    "plt.show()\n"
   ]
  },
  {
   "cell_type": "markdown",
   "metadata": {},
   "source": [
    "#### Simple Text-Based Analysis using NUMPY"
   ]
  },
  {
   "cell_type": "code",
   "execution_count": null,
   "metadata": {},
   "outputs": [],
   "source": [
    "print(\"***** HDB Resale Flat Price Distribution *****\")\n",
    "print()\n",
    "\n",
    "##### display the number of rows in this dataset\n",
    "no_of_rows = len(data)\n",
    "print(\"The data corresponding to \" + filename + \" consists of \" + str(no_of_rows) + \" rows.\")\n",
    "print()\n",
    "\n",
    "##### display the total number of rows of data extracted for year 2016, 2017, and 2018\n",
    "print(\"How many rows of data corresponding to the following years?\")\n",
    "print(\"----------------------------------------------------------------------------\")\n",
    "no_of_rows_2016 = len(year_2016)\n",
    "no_of_rows_2017 = len(year_2017)\n",
    "no_of_rows_2018 = len(year_2018)\n",
    "combined_no_of_rows = [no_of_rows_2016, no_of_rows_2017, no_of_rows_2018]\n",
    "years = ['2016', '2017', '2018']\n",
    "for i in range(len(combined_no_of_rows)):\n",
    "    print(\"The data corresponding to the year \" + years[i] + \" consists of \" + str(combined_no_of_rows[i]) + \" rows.\")\n",
    "print()\n",
    "\n",
    "##### compute the average resale price for the respective years from 2016 to 2018\n",
    "average_resale_price = []\n",
    "for j in range(len(years)):\n",
    "    average_resale_price.append(np.mean(combined_data[j])) ### store the data in Python List\n",
    "new_average_resale_price = np.array(average_resale_price) ### convert the Python List to Numpy Array\n",
    "\n",
    "##### display the computed average resale price for the respective years from 2016 to 2018\n",
    "print(\"Average HDB Resale Price for the following years: \")\n",
    "print(\"----------------------------------------------------------------------------\")\n",
    "for resale_price in range(len(new_average_resale_price)):\n",
    "    print(\"The average resale price for the year {} is ${:.2f}\".format(years[resale_price], \n",
    "                                                                       new_average_resale_price[resale_price]))\n",
    "print()\n",
    "\n",
    "##### compute the median resale price for the respective years from 2016 to 2018\n",
    "median_resale_price = []\n",
    "for j in range(len(years)):\n",
    "    median_resale_price.append(np.median(combined_data[i]))\n",
    "new_median_resale_price = np.array(median_resale_price) ### convert from Python List to Numpy Array\n",
    "\n",
    "##### display the computed median resale price for the respective eyars from 2016 to 2018\n",
    "print(\" Median HDB Resale Price for the following years: \")\n",
    "print(\"----------------------------------------------------------------------------\")\n",
    "for resale_price in range(len(new_median_resale_price)):\n",
    "    print(\"The median resale price for the year {} is ${:.2f}\".format(years[resale_price], \n",
    "                                                                      new_median_resale_price[resale_price]))\n",
    "print()\n",
    "\n",
    "\n",
    "##### using mean and median to determine the shape of the histogram distribution for the respective years 2016 to 2018\n",
    "print(\"Histogram Distribution Shape for the following years: \")\n",
    "print(\"----------------------------------------------------------------------------\")\n",
    "for k in range(len(years)):\n",
    "    if new_average_resale_price[k] == new_median_resale_price[k]:\n",
    "        print(\"The resale price distribution  for the year {} are symmetrical.\".format(years[k]))\n",
    "    elif new_average_resale_price[k] < new_median_resale_price[k]:\n",
    "        print(\"The resale price distribution for the year {} are left-skewed.\".format(years[k]))\n",
    "    elif new_average_resale_price[k] > new_median_resale_price[k]:\n",
    "        print(\"The resale price distribution for the year {} are right-skewed. \".format(years[k]))\n",
    "print()\n",
    "\n",
    "##### display the maximum resale price for the respective years from 2016 to 2018\n",
    "print(\"Maximum HDB Resale Price for the following years: \")\n",
    "print(\"----------------------------------------------------------------------------\")\n",
    "for max_resale_price in range(len(combined_data)):\n",
    "    max_value = combined_data[max_resale_price].max()\n",
    "    print(\"The maximum resale price for the year {} is ${:.2f}\".format(years[max_resale_price], max_value))\n",
    "print()\n",
    "\n",
    "##### display the minimum resale price for the respective years from 2016 to 2018\n",
    "print(\"Minimum HDB Resale Price for the following years: \")\n",
    "print(\"----------------------------------------------------------------------------\")\n",
    "for min_resale_price in range(len(combined_data)):\n",
    "    min_value = combined_data[min_resale_price].min()\n",
    "    print(\"The minimum resale price for the year {} is ${:.2f}\".format(years[min_resale_price], min_value))\n",
    "print()\n",
    "\n",
    "##### convert the number of counts from Python Lists to Numpy Array\n",
    "new_no_of_counts = np.array(no_of_counts)\n",
    "\n",
    "##### display the resale flat price with the highest number of counts or frequency for the following years\n",
    "print(\"HDB Resale Flat price with the highest number of resale records for the following years: \")\n",
    "print(\"-------------------------------------------------------------------------------------------\")\n",
    "for counts in range(len(new_no_of_counts)):\n",
    "    max_counts = new_no_of_counts[counts].max()\n",
    "    print(\"The highest number of resale records for the year {} is {}\".format(years[counts], max_counts))\n",
    "print()\n",
    "\n",
    "##### display the resale flat price with the lowest number of counts or freuqnecy for the following years\n",
    "print(\"HDB Resale Flat price with the lowest number of resale records for the following years: \")\n",
    "print(\"-------------------------------------------------------------------------------------------\")\n",
    "for counts in range(len(new_no_of_counts)):\n",
    "    min_counts = new_no_of_counts[counts].min()\n",
    "    print(\"The lowest number of resale records for the year {} is {}\".format(years[counts], min_counts))\n",
    "print()"
   ]
  }
 ],
 "metadata": {
  "kernelspec": {
   "display_name": "Python 3",
   "language": "python",
   "name": "python3"
  },
  "language_info": {
   "codemirror_mode": {
    "name": "ipython",
    "version": 3
   },
   "file_extension": ".py",
   "mimetype": "text/x-python",
   "name": "python",
   "nbconvert_exporter": "python",
   "pygments_lexer": "ipython3",
   "version": "3.7.3"
  }
 },
 "nbformat": 4,
 "nbformat_minor": 2
}
