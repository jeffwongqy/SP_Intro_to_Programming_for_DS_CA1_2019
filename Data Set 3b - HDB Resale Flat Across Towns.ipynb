{
 "cells": [
  {
   "cell_type": "markdown",
   "metadata": {},
   "source": [
    "## HDB Resale Flat Across Towns"
   ]
  },
  {
   "cell_type": "markdown",
   "metadata": {},
   "source": [
    "### Aim: What is the HDB Resale Flat Across the Towns over the last 3 years? "
   ]
  },
  {
   "cell_type": "markdown",
   "metadata": {},
   "source": [
    "### Dataset"
   ]
  },
  {
   "cell_type": "markdown",
   "metadata": {},
   "source": [
    "#### This dataset shows the resale price transactions based on the registration of the resale transactions, which comprises of month, town, flat type, block, street name, storey range, floor area, flat model, lease commencement date, lease remaining period, and the resale price variables."
   ]
  },
  {
   "cell_type": "markdown",
   "metadata": {},
   "source": [
    "#### Chart Type: Grouped Bar Chart"
   ]
  },
  {
   "cell_type": "markdown",
   "metadata": {},
   "source": [
    "#### Source: https://data.gov.sg/dataset/resale-flat-prices"
   ]
  },
  {
   "cell_type": "markdown",
   "metadata": {},
   "source": [
    "### Methodology"
   ]
  },
  {
   "cell_type": "markdown",
   "metadata": {},
   "source": [
    "#### Step 1: Import the required libraries "
   ]
  },
  {
   "cell_type": "code",
   "execution_count": null,
   "metadata": {},
   "outputs": [],
   "source": [
    "import numpy as np\n",
    "import matplotlib.pyplot as plt"
   ]
  },
  {
   "cell_type": "markdown",
   "metadata": {},
   "source": [
    "#### Step 2: Import the required dataset"
   ]
  },
  {
   "cell_type": "code",
   "execution_count": null,
   "metadata": {},
   "outputs": [],
   "source": [
    "filename = 'C:\\\\Users\\Jeffrey Wong\\SP_Assignment_Python\\HDB_resale_flat_prices.csv'\n",
    "\n",
    "data = np.genfromtxt(filename, skip_header = 1, dtype = [('month', 'U10'), ('town', 'U50'),\n",
    "                                                        ('flat_type', 'U10'), ('block', 'U10'),\n",
    "                                                        ('street_name', 'U50'), ('storey_range', 'U50'),\n",
    "                                                        ('floor_area_sqm', 'i8'), ('flat_model', 'U50'),\n",
    "                                                        ('lease_commence_date', 'U10'), ('remaining_lease', 'i8'),\n",
    "                                                        ('resale_price', 'f8')], \n",
    "                     delimiter = ',', missing_values = ['na', '-', ''])"
   ]
  },
  {
   "cell_type": "markdown",
   "metadata": {},
   "source": [
    "#### Step 3: Data Cleaning, Manipulation & Extraction"
   ]
  },
  {
   "cell_type": "markdown",
   "metadata": {},
   "source": [
    "##### Use subsetting  with boolean indexing to determine the exact location of the data of an element on first month of each year and store the indexing values into assigned variables respectively"
   ]
  },
  {
   "cell_type": "code",
   "execution_count": null,
   "metadata": {},
   "outputs": [],
   "source": [
    "### get the index of an element for the first month of year 2016\n",
    "index_2016 = np.where(data['month'] == '2016-01')\n",
    "if len(index_2016) > 0 and len(index_2016[0]) > 0:\n",
    "    position_2016 = index_2016[0][0]\n",
    "print(\"The index of an element for the first month of year 2016 is \" + str(position_2016))\n",
    "\n",
    "### get the index of an element for the first month of year 2017\n",
    "index_2017 = np.where(data['month'] == '2017-01')\n",
    "if len(index_2017) > 0 and len(index_2017[0]) > 0:\n",
    "    position_2017 = index_2017[0][0]\n",
    "print(\"The index of an element for the first month of year 2017 is \" + str(position_2017))\n",
    "\n",
    "### get the index of an element for the first month of year 2018\n",
    "index_2018 = np.where(data['month'] == '2018-01')\n",
    "if len(index_2018) > 0 and len(index_2018[0]) > 0:\n",
    "    position_2018 = index_2018[0][0]\n",
    "print(\"The index of an element for the first month of year 2018 is \" + str(position_2018))\n",
    "\n",
    "### get the index of an element for the first month of year 2019\n",
    "index_2019 = np.where(data['month'] == '2019-01')\n",
    "if len(index_2019) > 0 and len(index_2019[0]) > 0:\n",
    "    position_2019 = index_2019[0][0]\n",
    "print(\"The index of an element for the first month of year 2019 is \" + str(position_2019))"
   ]
  },
  {
   "cell_type": "markdown",
   "metadata": {},
   "source": [
    "##### Extract the relevant data using the indexing values above (through slicing) for each year and store them into assigned variables respectively"
   ]
  },
  {
   "cell_type": "code",
   "execution_count": null,
   "metadata": {},
   "outputs": [],
   "source": [
    "year_2016 = data[position_2016:position_2017]\n",
    "year_2017 = data[position_2017:position_2018] \n",
    "year_2018 = data[position_2018:position_2019]\n",
    "\n",
    "print(year_2016)\n",
    "print()\n",
    "print(year_2017)\n",
    "print()\n",
    "print(year_2018)\n",
    "print()"
   ]
  },
  {
   "cell_type": "markdown",
   "metadata": {},
   "source": [
    "##### Extract the unique town name from the dataset"
   ]
  },
  {
   "cell_type": "code",
   "execution_count": null,
   "metadata": {},
   "outputs": [],
   "source": [
    "unique_town_name = np.unique(data['town'])\n",
    "print(unique_town_name)"
   ]
  },
  {
   "cell_type": "markdown",
   "metadata": {},
   "source": [
    "##### Use subsetting to extract the resale price based on the town name, and compute the whole set of data corresponding to the respective unique town name to derive the total average resale price and store the total average resale price corresponding to the unique town name through the empty numpy array"
   ]
  },
  {
   "cell_type": "code",
   "execution_count": null,
   "metadata": {},
   "outputs": [],
   "source": [
    "# for year 2016\n",
    "avg_resale_price_2016 = np.array([])\n",
    "for i in unique_town_name:\n",
    "    resale_price_2016 = year_2016[year_2016['town'] == i]['resale_price'] # by subsetting\n",
    "    avg_values = np.mean(resale_price_2016) # compute the average flat resale prices\n",
    "    avg_resale_price_2016 = np.append(avg_resale_price_2016, avg_values)\n",
    "\n",
    "# for year 2017\n",
    "avg_resale_price_2017 = np.array([])\n",
    "for i in unique_town_name:\n",
    "    resale_price_2017 = year_2017[year_2017['town'] == i]['resale_price'] # by subsetting \n",
    "    avg_values = np.mean(resale_price_2017) # compute the average flat resale prices\n",
    "    avg_resale_price_2017 = np.append(avg_resale_price_2017, avg_values)\n",
    "    \n",
    "# for year 2018 \n",
    "avg_resale_price_2018 = np.array([])\n",
    "for j in unique_town_name:\n",
    "    resale_price_2018 = year_2018[year_2018['town'] == j]['resale_price'] # by subsetting\n",
    "    avg_values = np.mean(resale_price_2018) # compute the average flat resale prices \n",
    "    avg_resale_price_2018 = np.append(avg_resale_price_2018, avg_values)"
   ]
  },
  {
   "cell_type": "markdown",
   "metadata": {},
   "source": [
    "##### use logical-non operator, ~ to get an array with True everywhere that an array of elements are valid number\n",
    "##### use logical array to index to the original array to retrieve just the non-NaN values for year 2016, 2017  and 2018"
   ]
  },
  {
   "cell_type": "code",
   "execution_count": null,
   "metadata": {},
   "outputs": [],
   "source": [
    "new_avg_resale_price_2016 = avg_resale_price_2016[~np.isnan(avg_resale_price_2016)]\n",
    "new_avg_resale_price_2017 = avg_resale_price_2017[~np.isnan(avg_resale_price_2017)]\n",
    "new_avg_resale_price_2018 = avg_resale_price_2018[~np.isnan(avg_resale_price_2018)]"
   ]
  },
  {
   "cell_type": "markdown",
   "metadata": {},
   "source": [
    "#### Step 4: Data Visualization on Matplotlib"
   ]
  },
  {
   "cell_type": "markdown",
   "metadata": {},
   "source": [
    "#### Define the function to create and dsiplay the multiple grouped bar chart"
   ]
  },
  {
   "cell_type": "code",
   "execution_count": null,
   "metadata": {},
   "outputs": [],
   "source": [
    "def bar_chart(new_avg_resale_price_2016, new_avg_resale_price_2017, new_avg_resale_price_2018, unique_town_name):    \n",
    "    \n",
    "    ind = np.arange(len(unique_town_name)) # the y locations for the groups\n",
    "    width = 0.3 # the width of the bars\n",
    "\n",
    "    fig, ax = plt.subplots(1, figsize = (12,15))\n",
    "    bar_2016 = ax.barh(ind, avg_resale_price_2016, width, color = '#FF4C33', edgecolor = 'white', label = '2016')\n",
    "    bar_2017 = ax.barh(ind + width, avg_resale_price_2017, width, color = '#337CFF', edgecolor = 'white', label = '2017')\n",
    "    bar_2018 = ax.barh(ind + 2*width, avg_resale_price_2018, width, color = '#57F281', edgecolor = 'white', label = '2018')\n",
    "    \n",
    "    ### add title and axes labels \n",
    "    ax.set_title(\"Average Resale Flat Price Across Towns, 2016, 2017 & 2018\", fontsize = 15, fontweight = 'bold', color = 'black')\n",
    "    ax.set_xlabel('Average Resale Price (S$)', fontsize = 15, fontweight = 'bold')\n",
    "    ax.set_ylabel('Towns', fontsize = 15, fontweight = 'bold')\n",
    "    \n",
    "    ### adjust both axes ticks values\n",
    "    ax.tick_params(axis = \"y\", labelsize = 12, length = 10, width = 2.0, labelcolor = 'black', colors = 'red')\n",
    "    ax.tick_params(axis = \"x\", labelsize = 12, length = 10, width = 2.0, labelcolor = 'black', colors = 'red', rotation = 45)\n",
    "    ax.set_yticks(ind+width)\n",
    "    ax.set_yticklabels(unique_town_name)\n",
    "    \n",
    "    ### removing top and right borders\n",
    "    ax.spines['top'].set_visible(False)\n",
    "    ax.spines['right'].set_visible(False)\n",
    "    \n",
    "    ### add minorticks and gridlines\n",
    "    ax.minorticks_on()\n",
    "    ax.grid(axis = 'both', color = 'blue', which = 'major', linestyle = '--', linewidth = 0.8, alpha = 0.5)\n",
    "    \n",
    "    ### add legend\n",
    "    ax.legend(ncol = 3,  facecolor = 'white', edgecolor = 'red', shadow = True, fontsize = 10)\n",
    "    \n",
    "    fig.savefig('barchart.png')\n",
    "    \n",
    "    plt.show()"
   ]
  },
  {
   "cell_type": "markdown",
   "metadata": {},
   "source": [
    "#### Call the function to create and display the multiple grouped bar chart"
   ]
  },
  {
   "cell_type": "code",
   "execution_count": null,
   "metadata": {},
   "outputs": [],
   "source": [
    "### call the function to display the bar chart\n",
    "bar_chart(new_avg_resale_price_2016, new_avg_resale_price_2017, new_avg_resale_price_2018, unique_town_name)"
   ]
  },
  {
   "cell_type": "markdown",
   "metadata": {},
   "source": [
    "#### Simple Text-Based Analysis using Numpy"
   ]
  },
  {
   "cell_type": "code",
   "execution_count": null,
   "metadata": {},
   "outputs": [],
   "source": [
    "combined_values = np.array([new_avg_resale_price_2016, new_avg_resale_price_2017, new_avg_resale_price_2018])\n",
    "combined_data = np.array([year_2016, year_2017, year_2018])\n",
    "years = np.array(['2016', '2017', '2018'])"
   ]
  },
  {
   "cell_type": "code",
   "execution_count": null,
   "metadata": {},
   "outputs": [],
   "source": [
    "print(\"****** HDB Flat Resale Price Across Towns *******\")\n",
    "print()\n",
    "\n",
    "### display the total number of rows of data from csv file \n",
    "num_of_rows = len(data)\n",
    "print(\"There is a total of \" + str(num_of_rows) + \" rows in this dataset from \" + filename)\n",
    "print()\n",
    "\n",
    "### display the total number of rows of data for year 2016, 2017 and 2018\n",
    "print(\"Year                                 |     2016     |     2017     |     2018     |\")\n",
    "print(\"------------------------------------------------------------------------------------------\")\n",
    "print(\"Total Number of Data Extracted:         \" + str(len(combined_data[0])) + \"            \" + str(len(combined_data[1])) + \n",
    "        \"         \" + str(len(combined_data[2])))\n",
    "print()\n",
    "\n",
    "### display the total number of unique town name\n",
    "print(\"There is a total of \" + str(len(unique_town_name)) + \" unique towns name in this dataset.\")\n",
    "print()\n",
    "\n",
    "### display the total average resale price for all unique towns over the last three years\n",
    "print(\"Total Average Flat Resale Price For All \" + str(len(unique_town_name)) + \" unique towns over the last three years: \")\n",
    "print(\"--------------------------------------------------------------------------------------------------------\")\n",
    "print(\"Town Name                            |     2016(S$)   |     2017(S$)   |     2018(S$)    |\")\n",
    "for i in range(len(unique_town_name)):\n",
    "    print(unique_town_name[i] + \" :\" + \"\\t\\t\\t\\t {:.2f}\\t {:.2f}\\t  {:.2f}\".format(new_avg_resale_price_2016[i], \n",
    "                                                                        new_avg_resale_price_2017[i],\n",
    "                                                                       new_avg_resale_price_2018[i]))\n",
    "print()\n",
    "\n",
    "\n",
    "### display the highest average resale price for year 2016, 2017 and 2018\n",
    "print(\"Towns with the Top Highest Average Flat Resale Price Over The Last Three Years:\")\n",
    "print(\"--------------------------------------------------------------------------------------\")\n",
    "for i in (np.arange(3)):\n",
    "    max_values = np.max(combined_values[i])\n",
    "    max_values_index = np.argmax(combined_values[i])\n",
    "    print(unique_town_name[max_values_index] + \" is the top highest average flat resale price with S${:.2f}\".format(max_values) \n",
    "          + \" in year \" + years[i])\n",
    "print()\n",
    "\n",
    "### display the lowest average resale price for year 2016, 2017 and 2018\n",
    "print(\"Towns with the Lowest Average Flat Resale Price Over The Last Three Years: \")\n",
    "print(\"--------------------------------------------------------------------------------------\")\n",
    "for i in (np.arange(3)):\n",
    "    min_values = np.min(combined_values[i])\n",
    "    min_values_index = np.argmin(combined_values[i])\n",
    "    print(unique_town_name[min_values_index] + \" is the lowest average flat resale price with S${:.2f}\".format(min_values)\n",
    "         + \" in year \" + years[i])\n",
    "print()\n",
    "\n",
    "### display the standard deviation, variation, range, 25th, 50th, 75th percentile for year 2016, 2017 and 2018\n",
    "print(\"Basic Descriptive Statistics: \")\n",
    "print(\"--------------------------------------------\")\n",
    "for i in (np.arange(3)):\n",
    "    standard_deviation = np.std(combined_values[i], axis = 0) # compute standard deviation along the row axis \n",
    "    variation = np.var(combined_values[i],axis = 0) # compute the variation along the row axis \n",
    "    median = np.median(combined_values[i], axis = 0) # comptue the median along the row axis\n",
    "    percentile_25 = np.percentile(combined_values[i], 25, axis = 0) # compute the 25th percentile of the data along the row axis\n",
    "    percentile_75 = np.percentile(combined_values[i], 75, axis = 0) # compute the 75th percentile of the data along the row axis \n",
    "    \n",
    "    ### display all the values\n",
    "    print(\"For year \" + str(years[i]) + \" : \")\n",
    "    print(\"-------------------\")\n",
    "    print(\"Standard Deviation\\t: S$ {:.3f}\".format(standard_deviation))\n",
    "    print(\"Variation        \\t: S$ {:.3f}\".format(variation))\n",
    "    print(\"Median           \\t: S$ {:.3f}\".format(median))\n",
    "    print(\"25th Percentile  \\t: S$ {:.3f}\".format(percentile_25))\n",
    "    print(\"75th Percentile  \\t: S$ {:.3f}\".format(percentile_75))\n",
    "    print()\n",
    "    "
   ]
  }
 ],
 "metadata": {
  "kernelspec": {
   "display_name": "Python 3",
   "language": "python",
   "name": "python3"
  },
  "language_info": {
   "codemirror_mode": {
    "name": "ipython",
    "version": 3
   },
   "file_extension": ".py",
   "mimetype": "text/x-python",
   "name": "python",
   "nbconvert_exporter": "python",
   "pygments_lexer": "ipython3",
   "version": "3.7.3"
  }
 },
 "nbformat": 4,
 "nbformat_minor": 2
}
