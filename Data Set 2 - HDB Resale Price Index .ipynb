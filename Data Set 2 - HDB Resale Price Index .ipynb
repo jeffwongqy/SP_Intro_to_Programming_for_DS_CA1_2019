{
 "cells": [
  {
   "cell_type": "markdown",
   "metadata": {},
   "source": [
    "## HDB Resale Price Index "
   ]
  },
  {
   "cell_type": "markdown",
   "metadata": {},
   "source": [
    "### Aim: What is the HDB Resale Price Index Trend Over The Last 10 Years?"
   ]
  },
  {
   "cell_type": "markdown",
   "metadata": {},
   "source": [
    "### Dataset 2:"
   ]
  },
  {
   "cell_type": "markdown",
   "metadata": {},
   "source": [
    "#### This dataset shows the overall price movement of the public residential market and the index is based on the quarterly average resale price by the date of registration, which comprises of the quarter and index variables respectively."
   ]
  },
  {
   "cell_type": "markdown",
   "metadata": {},
   "source": [
    "#### Chart Type: Line Graph"
   ]
  },
  {
   "cell_type": "markdown",
   "metadata": {},
   "source": [
    "#### Source: https://data.gov.sg/dataset/hdb-resale-price-index"
   ]
  },
  {
   "cell_type": "markdown",
   "metadata": {},
   "source": [
    "### Methodology"
   ]
  },
  {
   "cell_type": "markdown",
   "metadata": {},
   "source": [
    "#### Step 1: Import the required libraries"
   ]
  },
  {
   "cell_type": "code",
   "execution_count": null,
   "metadata": {},
   "outputs": [],
   "source": [
    "import numpy as np\n",
    "import matplotlib.pyplot as plt"
   ]
  },
  {
   "cell_type": "markdown",
   "metadata": {},
   "source": [
    "#### Step 2: Import the required dataset"
   ]
  },
  {
   "cell_type": "code",
   "execution_count": null,
   "metadata": {},
   "outputs": [],
   "source": [
    "filename = 'C:\\\\Users\\Jeffrey Wong\\SP_Assignment_Python\\HDB_resale_price_index.csv'\n",
    "\n",
    "data = np.genfromtxt(filename, skip_header = 1, dtype = [('quarter', 'U10'), ('index', 'f8')], delimiter = ',',\n",
    "                    missing_values = ['na', '-', ''], filling_values = 0)"
   ]
  },
  {
   "cell_type": "markdown",
   "metadata": {},
   "source": [
    "#### Step 3: Data Cleaning, Manipulation & Extraction"
   ]
  },
  {
   "cell_type": "markdown",
   "metadata": {},
   "source": [
    "##### Use subsetting to extract the exact location of an element in the dataset and store them into new variables respectively. "
   ]
  },
  {
   "cell_type": "code",
   "execution_count": null,
   "metadata": {},
   "outputs": [],
   "source": [
    "### get the index of an element for the first quarter of year 2008\n",
    "index_2008 = np.where(data['quarter'] == '2008-Q1') # subsetting\n",
    "first_quarter_2008 = index_2008[0][0] # indexing \n",
    "print(\"The indexing value for the first quarter of 2008 is \" + str(first_quarter_2008))\n",
    "\n",
    "### get the index of an element for the first quarter of year 2019\n",
    "index_2019 = np.where(data['quarter'] == '2019-Q1')\n",
    "first_quarter_2019 = index_2019[0][0]\n",
    "print(\"The indexing value for the first quarter of 2019 is \" + str(first_quarter_2019))"
   ]
  },
  {
   "cell_type": "markdown",
   "metadata": {},
   "source": [
    "##### Extract the data over the last 10 years (from 2008 to 2018) through slicing method and store them into a new variable"
   ]
  },
  {
   "cell_type": "code",
   "execution_count": null,
   "metadata": {},
   "outputs": [],
   "source": [
    "data_10_years = data[first_quarter_2008:first_quarter_2019]\n",
    "print(data_10_years)"
   ]
  },
  {
   "cell_type": "markdown",
   "metadata": {},
   "source": [
    "##### Extract the values for both quarter and index from the new dataset and store them with new variables respectively"
   ]
  },
  {
   "cell_type": "code",
   "execution_count": null,
   "metadata": {},
   "outputs": [],
   "source": [
    "x = data_10_years['quarter']\n",
    "y = data_10_years['index']"
   ]
  },
  {
   "cell_type": "markdown",
   "metadata": {},
   "source": [
    "#### Step 4: Data Visualization using Matplotlib"
   ]
  },
  {
   "cell_type": "markdown",
   "metadata": {},
   "source": [
    "##### Define the function to create a line graph"
   ]
  },
  {
   "cell_type": "code",
   "execution_count": null,
   "metadata": {},
   "outputs": [],
   "source": [
    "def line_graph(x, y):\n",
    "    ### to create line graph  \n",
    "    fig, ax = plt.subplots(1, figsize = (15,7))\n",
    "\n",
    "    ax.plot(x, y, color = 'cyan', marker = 'o', mfc = 'blue', mec = 'black', markersize = 8, label = 'Resale Price Index')\n",
    "\n",
    "    # add a title and axes labels \n",
    "    ax.set_title('HDB Resale Price Index Trend)', fontsize = 20, fontweight = 'bold')\n",
    "    ax.set_xlabel('Quarter', fontsize = 15, fontweight = 'bold')\n",
    "    ax.set_ylabel('Index', fontsize = 15, fontweight = 'bold')\n",
    "\n",
    "    # adjust both axes ticks values\n",
    "    ax.tick_params(axis = \"y\", labelsize = 12, length = 10, width = 2.0, labelcolor = 'black', colors = 'red')\n",
    "    ax.tick_params(axis = \"x\", labelsize = 12, length = 10, width = 2.0, labelcolor = 'black', colors = 'red', rotation = 90)\n",
    "\n",
    "    # removing top and right borders\n",
    "    ax.spines['top'].set_visible(False)\n",
    "    ax.spines['right'].set_visible(False)\n",
    "\n",
    "    # add major gridlines\n",
    "    ax.grid(axis = 'y', color = 'blue', linestyle = '--', linewidth = 0.8, alpha = 0.5)\n",
    "\n",
    "    # add text on data points \n",
    "    # add text on the quarter year with max resale price index value\n",
    "    max_resale_values = np.max(y) # y-coordinate \n",
    "    max_resale_quarter = np.where(x[np.argmax(y)] == x) # x-coordinate \n",
    "    ax.annotate(\"Quarter: {}\\n Index: {}\".format(x[max_resale_quarter[0]], max_resale_values) , xy = (max_resale_quarter[0],max_resale_values), \n",
    "                xytext = (max_resale_quarter[0], 135), arrowprops = dict(arrowstyle = \"-\", color = 'r', linewidth = 2),\n",
    "                horizontalalignment = 'center', verticalalignment = 'top', fontweight = 'bold')\n",
    "\n",
    "    # add text on last quarter year\n",
    "    ax.annotate(\"Quarter: {}\\n Index: {}\".format(x[43], y[43]),xy = (43,y[43]), xytext = (43, 110), \n",
    "                arrowprops = dict(arrowstyle = \"-\", color = 'm', linewidth = 2), horizontalalignment = 'right', \n",
    "                verticalalignment = 'top', fontweight = 'bold')\n",
    "    \n",
    "    # add text on second last quarter year \n",
    "    ax.annotate(\"Quarter: {}\\n Index: {}\".format(x[42], y[42]),xy = (42,y[43]), xytext = (42, 140), \n",
    "                arrowprops = dict(arrowstyle = \"-\", color = 'm', linewidth = 2), horizontalalignment = 'right', \n",
    "                verticalalignment = 'bottom', fontweight = 'bold')\n",
    "\n",
    "    # add text on third last quarter year\n",
    "    ax.annotate(\"Quarter: {}\\n Index: {}\".format(x[41], y[41]),xy = (41,y[41]), xytext = (41, 120), \n",
    "                arrowprops = dict(arrowstyle = \"-\", color = 'm', linewidth = 2), horizontalalignment = 'right', \n",
    "                verticalalignment = 'top', fontweight = 'bold')\n",
    "    \n",
    "    # add text on forth last quarter year\n",
    "    ax.annotate(\"Quarter: {}\\n Index: {}\".format(x[40], y[40]),xy = (40,y[40]), xytext = (35, 125), \n",
    "                arrowprops = dict(arrowstyle = \"-\", color = 'm', linewidth = 2), horizontalalignment = 'right', \n",
    "                verticalalignment = 'top', fontweight = 'bold')\n",
    "    \n",
    "    ### add legend\n",
    "    plt.legend(loc = 'lower right', facecolor = 'white', edgecolor = 'black', shadow = True, fontsize = 12)\n",
    "    \n",
    "    fig.savefig('linegraph.png')\n",
    "    plt.show()"
   ]
  },
  {
   "cell_type": "markdown",
   "metadata": {},
   "source": [
    "##### Call the function to display the line graph"
   ]
  },
  {
   "cell_type": "code",
   "execution_count": null,
   "metadata": {},
   "outputs": [],
   "source": [
    "line_graph(x, y)"
   ]
  },
  {
   "cell_type": "markdown",
   "metadata": {},
   "source": [
    "### Simple Text Based Analysis using NUMPY"
   ]
  },
  {
   "cell_type": "code",
   "execution_count": null,
   "metadata": {},
   "outputs": [],
   "source": [
    "print(\"***** HDB Resale Price Index Trend Over The Last 10 Years *****\")\n",
    "print()\n",
    "\n",
    "### Number of rows of data in this dataset\n",
    "no_of_rows = len(data)\n",
    "print(\"There are \" + str(no_of_rows) + \" rows in this dataset from \" + filename)\n",
    "print()\n",
    "\n",
    "### display the classification of the data type structure on each column in this dataset\n",
    "print(\"Classification of the Data Type Structure on Each Column: \")\n",
    "print(\"---------------------------------------------------------------\")\n",
    "data_type_1 = type(data['quarter'][0])\n",
    "data_type_2 = type(data['index'][0])\n",
    "print(\"The data type for 'quarter' in column 1 is \" + str(data_type_1))\n",
    "print(\"The data type for 'index' in column 2 is \" + str(data_type_2))\n",
    "print()\n",
    "\n",
    "### display the resale price index values for the last 4 quarters years \n",
    "print(\"The HDB resale price index over the last 4 quarterly are: \")\n",
    "for i in range(len(x)-4, len(x)):\n",
    "    print(\"Quarter: \" + x[i] + \" Index: \" + str(y[i]))\n",
    "print()\n",
    "\n",
    "### display the value which has the lowest resale price index occurs in a particular year\n",
    "minimum_resale_price_index = y.min()\n",
    "minimum_resale_price_indexing = y.argmin()\n",
    "print(\"The minimum HDB resale price index is \" + str(minimum_resale_price_index) + \" in the year of \" \n",
    "      + x[minimum_resale_price_indexing])\n",
    "print()\n",
    "\n",
    "### display the value which has the highest resale price index occurs in a particular year\n",
    "maximum_resale_price_index = y.max()\n",
    "maximum_resale_price_indexing = y.argmax()\n",
    "print(\"The maximum HDB resale price index is \" + str(maximum_resale_price_index) + \" in the year of \" \n",
    "      + x[maximum_resale_price_indexing])\n",
    "print()\n",
    "\n",
    "### compute and display the median resale price index over the last 10 years \n",
    "median_resale_price_index = np.median(y)\n",
    "print(\"The median HDB resale price index over the last 10 years is \" + str(median_resale_price_index))\n",
    "print()\n",
    "\n",
    "### compute and display the average resale price index over the last 10 years \n",
    "average_resale_price_index = np.mean(y)\n",
    "print(\"The average HDB resale price index over the last 10 years is {:.2f}\".format(average_resale_price_index))\n",
    "print()\n",
    "\n",
    "### compute and display the standard deviation resale price index over the last 10 years\n",
    "std_dev_resale_price_index = np.std(y)\n",
    "print(\"The standard deviation HDB resale price index over the last 10 years is {:.2f}\".format(std_dev_resale_price_index))\n",
    "print()\n",
    "\n",
    "### compute and display the 25th and 75th percentile of resale price index over the last 10 years\n",
    "percentile_resale_price_index = np.percentile(y, [25,75])\n",
    "print(\"The 25th and 75th percentile of resale price index over the last 10 years is \" + \n",
    "      str(percentile_resale_price_index) + \" respectively.\")"
   ]
  }
 ],
 "metadata": {
  "kernelspec": {
   "display_name": "Python 3",
   "language": "python",
   "name": "python3"
  },
  "language_info": {
   "codemirror_mode": {
    "name": "ipython",
    "version": 3
   },
   "file_extension": ".py",
   "mimetype": "text/x-python",
   "name": "python",
   "nbconvert_exporter": "python",
   "pygments_lexer": "ipython3",
   "version": "3.7.3"
  }
 },
 "nbformat": 4,
 "nbformat_minor": 2
}
