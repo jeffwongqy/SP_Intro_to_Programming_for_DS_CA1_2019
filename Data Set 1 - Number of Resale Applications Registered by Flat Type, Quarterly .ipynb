{
 "cells": [
  {
   "cell_type": "markdown",
   "metadata": {},
   "source": [
    "## Number of Resale Flat Applications Registered by Flat Type, Quarterly"
   ]
  },
  {
   "cell_type": "markdown",
   "metadata": {},
   "source": [
    "### Aim: What is the total number of resale flat applications registered by flat type, quarterly,  over the last 3  years?"
   ]
  },
  {
   "cell_type": "markdown",
   "metadata": {},
   "source": [
    "### Dataset 1: "
   ]
  },
  {
   "cell_type": "markdown",
   "metadata": {},
   "source": [
    "#### This dataset shows the total number of resale flat applications registered by flat type, quarterly from 2007-Q1 to 2019-Q1, which comprises of quarter, type of flat type and number of resale applications."
   ]
  },
  {
   "cell_type": "markdown",
   "metadata": {},
   "source": [
    "#### Chart Type: Stacked Bar Chart"
   ]
  },
  {
   "cell_type": "markdown",
   "metadata": {},
   "source": [
    "#### Source: https://data.gov.sg/dataset/number-of-resale-applications-registered-by-flat-type-quarterly"
   ]
  },
  {
   "cell_type": "markdown",
   "metadata": {},
   "source": [
    "### Methodology "
   ]
  },
  {
   "cell_type": "markdown",
   "metadata": {},
   "source": [
    "#### Step 1: Import the required libraries "
   ]
  },
  {
   "cell_type": "code",
   "execution_count": null,
   "metadata": {},
   "outputs": [],
   "source": [
    "import numpy as np\n",
    "import matplotlib.pyplot as plt"
   ]
  },
  {
   "cell_type": "markdown",
   "metadata": {},
   "source": [
    "#### Step 2: Import the required dataset"
   ]
  },
  {
   "cell_type": "code",
   "execution_count": null,
   "metadata": {},
   "outputs": [],
   "source": [
    "filename = 'C:\\\\Users\\Jeffrey Wong\\SP_Assignment_Python\\HDB_resale_applications.csv'\n",
    "\n",
    "data = np.genfromtxt(filename, skip_header = 1, dtype = [('quarter', 'U10'), ('flat_type', 'U20'), \n",
    "                                                         ('no_of_resale_applications', 'i8')], delimiter = ',',\n",
    "                    missing_values = ['na', ',', ''], filling_values = 0)"
   ]
  },
  {
   "cell_type": "markdown",
   "metadata": {},
   "source": [
    "#### Step 3: Data Cleaning, Manipulation & Extraction"
   ]
  },
  {
   "cell_type": "markdown",
   "metadata": {},
   "source": [
    "##### Use iteration method to determine the exact location by subsetting on each quarterly for respective years and store the indexing values through Python Lists, and then convert the data from Python Lists to Numpy array"
   ]
  },
  {
   "cell_type": "code",
   "execution_count": null,
   "metadata": {},
   "outputs": [],
   "source": [
    "quarter_2016 = ['2016-Q1', '2016-Q2', '2016-Q3', '2016-Q4']\n",
    "position_2016 = [] \n",
    "for i in range(len(quarter_2016)):\n",
    "    index_2016 = np.where(data['quarter'] == quarter_2016[i]) # by subsetting \n",
    "    if len(index_2016) > 0 and len(index_2016[0]) > 0:\n",
    "        position_2016.append(index_2016[0][0]) # use Python List to store the  index of an element  \n",
    "quarter_pos_2016 = np.array(position_2016) # convert the Python List to numpy array \n",
    "print(\"Indexing values for Year 2016 Quarterly: \" + str(quarter_pos_2016))\n",
    "\n",
    "quarter_2017 = ['2017-Q1', '2017-Q2', '2017-Q3', '2017-Q4']\n",
    "position_2017 = []\n",
    "for i in range(len(quarter_2017)):\n",
    "    index_2017 = np.where(data['quarter'] == quarter_2017[i])\n",
    "    if len(index_2017) > 0 and len(index_2017[0]) > 0:\n",
    "        position_2017.append(index_2017[0][0])\n",
    "quarter_pos_2017 = np.array(position_2017)\n",
    "print(\"Indexing values for Year 2017 Quarterly: \" + str(quarter_pos_2017))\n",
    "\n",
    "quarter_2018 = ['2018-Q1', '2018-Q2', '2018-Q3', '2018-Q4']\n",
    "position_2018 = []\n",
    "for i in range(len(quarter_2018)):\n",
    "    index_2018 = np.where(data['quarter'] == quarter_2018[i])\n",
    "    if len(index_2018) > 0 and len(index_2018[0]) > 0:\n",
    "        position_2018.append(index_2018[0][0])\n",
    "quarter_pos_2018 = np.array(position_2018)\n",
    "print(\"Indexing values for Year 2018 Quarterly: \" + str(quarter_pos_2018))\n",
    "\n",
    "index_2019 = np.where(data['quarter'] == '2019-Q1')\n",
    "if len(index_2019) > 0 and len(index_2019[0]) > 0:\n",
    "    quarter_pos_2019 = index_2019[0][0]\n",
    "print(\"Indexing values for Year 2019 Quarterly: \" + str(quarter_pos_2019))"
   ]
  },
  {
   "cell_type": "markdown",
   "metadata": {},
   "source": [
    "##### Use iteration method to slice the relevant data based on the indexing values above and  store the data individually by quarter for each year using Python Lists and then convert the dataset from Python Lists to 2D Numpy Array"
   ]
  },
  {
   "cell_type": "code",
   "execution_count": null,
   "metadata": {},
   "outputs": [],
   "source": [
    "data_2016 = []\n",
    "for i in range(len(quarter_2016)):\n",
    "    sum = i + 1;\n",
    "    if sum < 4:\n",
    "        extracted_data = data[quarter_pos_2016[i]: quarter_pos_2016[sum]] ### use slicing array \n",
    "        data_2016.append(extracted_data) ### store the data through Python List\n",
    "    elif sum == 4 :\n",
    "        extracted_data = data[quarter_pos_2016[i]: quarter_pos_2017[0]] ### use slicing array\n",
    "        data_2016.append(extracted_data) ### store the data through Python List\n",
    "new_data_2016 = np.array(data_2016) ### convert from python list to two-dimensional array\n",
    "print(new_data_2016)\n",
    "print()\n",
    "\n",
    "data_2017 = []\n",
    "for i in range(len(quarter_2017)):\n",
    "    sum = i + 1;\n",
    "    if sum < 4:\n",
    "        extracted_data = data[quarter_pos_2017[i]: quarter_pos_2017[sum]]\n",
    "        data_2017.append(extracted_data)\n",
    "    elif sum == 4 :\n",
    "        extracted_data = data[quarter_pos_2017[i]: quarter_pos_2018[0]]\n",
    "        data_2017.append(extracted_data)\n",
    "new_data_2017 = np.array(data_2017) ### convert from python list to two-dimensional array\n",
    "print(new_data_2017)\n",
    "print()\n",
    "\n",
    "data_2018 = []\n",
    "for i in range(len(quarter_2018)):\n",
    "    sum = i + 1;\n",
    "    if sum < 4:\n",
    "        extracted_data = data[quarter_pos_2018[i]: quarter_pos_2018[sum]]\n",
    "        data_2018.append(extracted_data)\n",
    "    elif sum == 4 :\n",
    "        extracted_data = data[quarter_pos_2018[i]: quarter_pos_2019]\n",
    "        data_2018.append(extracted_data)\n",
    "new_data_2018 = np.array(data_2018) ### convert from python list to two-dimensional array\n",
    "print(new_data_2018)\n",
    "print()"
   ]
  },
  {
   "cell_type": "markdown",
   "metadata": {},
   "source": [
    "##### Extract the unique flat types from this dataset"
   ]
  },
  {
   "cell_type": "code",
   "execution_count": null,
   "metadata": {},
   "outputs": [],
   "source": [
    "unique_flat_type = np.unique(data['flat_type'])\n",
    "print(unique_flat_type)"
   ]
  },
  {
   "cell_type": "markdown",
   "metadata": {},
   "source": [
    "##### Extract the values for the total number of resale applications from the new dataset "
   ]
  },
  {
   "cell_type": "code",
   "execution_count": null,
   "metadata": {},
   "outputs": [],
   "source": [
    "no_of_application_2016 = new_data_2016['no_of_resale_applications']\n",
    "no_of_application_2017 = new_data_2017['no_of_resale_applications']\n",
    "no_of_application_2018 = new_data_2018['no_of_resale_applications']\n",
    "\n",
    "print(no_of_application_2016)\n",
    "print()\n",
    "print(no_of_application_2017)\n",
    "print()\n",
    "print(no_of_application_2018)"
   ]
  },
  {
   "cell_type": "markdown",
   "metadata": {},
   "source": [
    "##### Combined all the individual data for total number of resale applications with respective years into one common variable."
   ]
  },
  {
   "cell_type": "code",
   "execution_count": null,
   "metadata": {},
   "outputs": [],
   "source": [
    "combined_values = np.array([no_of_application_2016, no_of_application_2017, no_of_application_2018])\n",
    "print(combined_values.ndim)"
   ]
  },
  {
   "cell_type": "markdown",
   "metadata": {},
   "source": [
    "##### Reshape the array into specific dimension for the combined data of the total number of resale applications "
   ]
  },
  {
   "cell_type": "code",
   "execution_count": null,
   "metadata": {},
   "outputs": [],
   "source": [
    "new_combined_values = np.reshape(combined_values, (12,6))\n",
    "print(new_combined_values.ndim)"
   ]
  },
  {
   "cell_type": "markdown",
   "metadata": {},
   "source": [
    "##### Combined all the individual data for labelling into one common variable"
   ]
  },
  {
   "cell_type": "code",
   "execution_count": null,
   "metadata": {},
   "outputs": [],
   "source": [
    "### will be use for labelling on the horizontal axis of the chart\n",
    "combined_label = np.array([quarter_2016, quarter_2017, quarter_2018])\n",
    "print(combined_label.ndim)"
   ]
  },
  {
   "cell_type": "markdown",
   "metadata": {},
   "source": [
    "##### Reshape the array into specific dimension for the combined data of labelling"
   ]
  },
  {
   "cell_type": "code",
   "execution_count": null,
   "metadata": {},
   "outputs": [],
   "source": [
    "new_combined_label = np.reshape(combined_label, (12))\n",
    "print(new_combined_label.ndim)"
   ]
  },
  {
   "cell_type": "markdown",
   "metadata": {},
   "source": [
    "#### Step 4: Data Visualization using Matplotlib"
   ]
  },
  {
   "cell_type": "markdown",
   "metadata": {},
   "source": [
    "##### Define the function to create stacked bar charts"
   ]
  },
  {
   "cell_type": "code",
   "execution_count": null,
   "metadata": {},
   "outputs": [],
   "source": [
    "def stacked_bar_charts(new_combined_values, new_combined_label):\n",
    "    \n",
    "    fig, ax = plt.subplots(1, figsize = (13,10))\n",
    "    r = np.arange(12)\n",
    "\n",
    "    bottoms = 0\n",
    "    face_color = ['tomato', 'navy', 'darkturquoise', 'mediumspringgreen', 'greenyellow', 'slategrey']\n",
    "    \n",
    "    ### use iteration multiple for-loops to create multiple stacked bar charts \n",
    "    for i in r:\n",
    "        for j in range(len(unique_flat_type)):\n",
    "            ax.bar(i, new_combined_values[i][j], bottom = bottoms, color = face_color[j], width = 0.5, align = 'center')\n",
    "            bottoms = new_combined_values[i][j] + bottoms\n",
    "        bottoms = 0\n",
    "    \n",
    "    ### add titles and axes labels and values \n",
    "    ax.set_title(\"HDB Resale Flat Application, 2016, 2017, 2018\", fontsize = 15, fontweight = 'bold')\n",
    "    ax.set_xlabel('Year of Application (By Quarter)', fontsize = 15, fontweight = 'bold')\n",
    "    ax.set_ylabel('Number of Applications', fontsize = 15, fontweight = 'bold')\n",
    "    ax.set_xticks(r[0:12])\n",
    "    ax.set_xticklabels(new_combined_label)\n",
    "\n",
    "    ### adjust ticks labels \n",
    "    ax.tick_params(axis = \"y\", labelsize = 12, length = 10, width = 2.0, labelcolor = 'black', colors = 'red')\n",
    "    ax.tick_params(axis = \"x\", labelsize = 11, length = 10, width = 2.0, labelcolor = 'black', colors = 'red')\n",
    "\n",
    "    ### removing the top and right borders\n",
    "    ax.spines['top'].set_visible(False)\n",
    "    ax.spines['right'].set_visible(False)\n",
    "\n",
    "    ### add minor ticks and major gridlines \n",
    "    ax.minorticks_on()\n",
    "    ax.grid(axis = 'y', color = 'red', which = 'major', linestyle = '--', linewidth = 0.8, alpha = 0.5)\n",
    "\n",
    "    ### add legend \n",
    "    ax.legend(unique_flat_type, loc = 'upper left', fontsize = 12, edgecolor = 'navy', bbox_to_anchor=(0.05, -0.08), \n",
    "              ncol = 6, shadow = True)\n",
    "    \n",
    "    ### save the image\n",
    "    fig.savefig('stacked_bar_chart.png')\n",
    "    \n",
    "    plt.show()"
   ]
  },
  {
   "cell_type": "markdown",
   "metadata": {},
   "source": [
    "##### Call the function to create stacked bar charts"
   ]
  },
  {
   "cell_type": "code",
   "execution_count": null,
   "metadata": {},
   "outputs": [],
   "source": [
    "stacked_bar_charts(new_combined_values, new_combined_label)"
   ]
  },
  {
   "cell_type": "markdown",
   "metadata": {},
   "source": [
    "### Simple Text-Based Analysis using NUMPY"
   ]
  },
  {
   "cell_type": "code",
   "execution_count": null,
   "metadata": {},
   "outputs": [],
   "source": [
    "print(\"****** HDB Resale Flat Application by Flat-Type ******\")\n",
    "print()\n",
    "\n",
    "### display the total number of rows of data in this dataset\n",
    "num_of_rows = len(data)\n",
    "print(\"There is a total of \" + str(num_of_rows) + \" rows in this dataset from \" + filename)\n",
    "print()\n",
    "\n",
    "### Classification of the data type structure on each column in this dataset\n",
    "print(\"Classification of the Data Type Structure on Each Column: \")\n",
    "print(\"------------------------------------------------------------\")\n",
    "column_1 = data['quarter'][0]\n",
    "data_type_1 = type(column_1)\n",
    "print(\"The data type for the first column 'Quarter' is \" + str(data_type_1)) \n",
    "print()\n",
    "\n",
    "column_2 = data['flat_type'][0]\n",
    "data_type_2 = type(column_2)\n",
    "print(\"The data type for the second column 'Flat-Type' is \" + str(data_type_2))\n",
    "print()\n",
    "\n",
    "column_3 = data['no_of_resale_applications'][0]\n",
    "data_type_3 = type(column_3)\n",
    "print(\"The data type for the third column 'No of Resale Application' is \" + str(data_type_3))\n",
    "print()\n",
    "print()\n",
    "\n",
    "\n",
    "# display the total number of resale flat application by flat-type on each quarter \n",
    "quarter_values = np.array([quarter_2016, quarter_2017, quarter_2018])\n",
    "new_quarter_values = np.reshape(quarter_values, (12))\n",
    "print(\"Total Number of Resale Flat Applications Registered by Flat-Type, by Quarter: \")\n",
    "print(\"------------------------------------------------------------------------------------------------------------------\")\n",
    "print(\"Quarter      Room-1           Room-2              Room-3             Room-4             Room-5           Executive\")\n",
    "for i in range(len(new_quarter_values)):\n",
    "    print(new_quarter_values[i])\n",
    "    for j in range(len(unique_flat_type)):\n",
    "        print(\"               \" + str(new_combined_values[i][j]), end = \" \")\n",
    "    print()\n",
    "print()\n",
    "\n",
    "# display the maximum and minimum number of resale flat application by flat-type on each quarter\n",
    "print(\"Maximum and Minimum Number of Resale Flat Applications Registered by Flat-Type, by Quarter: \")\n",
    "print(\"-----------------------------------------------------------------------------------------------\")\n",
    "for i in range(len(new_quarter_values)):\n",
    "    max_values = new_combined_values[i].max()\n",
    "    max_values_index = new_combined_values[i].argmax()\n",
    "    min_values = new_combined_values[i].min()\n",
    "    min_values_index = new_combined_values[i].argmin()\n",
    "    print(\"The maximum number of resale flat application in \" + new_quarter_values[i] + \" by \" + \n",
    "          unique_flat_type[max_values_index] + \" is \" + str(max_values))\n",
    "    print(\"The minimum number of resale flat application in \" + new_quarter_values[i] + \" by \" +\n",
    "         unique_flat_type[min_values_index] + \" is \" + str(min_values))\n",
    "    print()"
   ]
  }
 ],
 "metadata": {
  "kernelspec": {
   "display_name": "Python 3",
   "language": "python",
   "name": "python3"
  },
  "language_info": {
   "codemirror_mode": {
    "name": "ipython",
    "version": 3
   },
   "file_extension": ".py",
   "mimetype": "text/x-python",
   "name": "python",
   "nbconvert_exporter": "python",
   "pygments_lexer": "ipython3",
   "version": "3.7.3"
  }
 },
 "nbformat": 4,
 "nbformat_minor": 2
}
